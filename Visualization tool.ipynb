{
 "cells": [
  {
   "cell_type": "code",
   "execution_count": 1,
   "id": "27cc9cf3",
   "metadata": {},
   "outputs": [],
   "source": [
    "import pandas as pd\n",
    "import gc\n",
    "import time\n",
    "import numpy as np\n",
    "import pandas as pd\n",
    "#load data\n",
    "def load_data(path_data):\n",
    "    priors = pd.read_csv(path_data +'\\order_products__prior\\order_products__prior.csv', \n",
    "                     dtype={\n",
    "                            'order_id': np.int32,\n",
    "                            'product_id': np.uint16,\n",
    "                            'add_to_cart_order': np.int16,\n",
    "                            'reordered': np.int8})\n",
    "    train = pd.read_csv(path_data +'\\order_products__train\\order_products__train.csv', \n",
    "                    dtype={\n",
    "                            'order_id': np.int32,\n",
    "                            'product_id': np.uint16,\n",
    "                            'add_to_cart_order': np.int16,\n",
    "                            'reordered': np.int8})\n",
    "    '''\n",
    "    --------------------------------order--------------------------------\n",
    "    * This file tells us which set (prior, train, test) an order belongs\n",
    "    * Unique in order_id\n",
    "    * order_id in train, prior, test has no intersection\n",
    "    * this is the #order_number order of this user\n",
    "    '''\n",
    "    orders = pd.read_csv(path_data +'\\orders\\orders.csv', \n",
    "                         dtype={\n",
    "                                'order_id': np.int32,\n",
    "                                'user_id': np.int64,\n",
    "                                'eval_set': 'str',\n",
    "                                'order_number': np.int16,\n",
    "                                'order_dow': np.int8,\n",
    "                                'order_hour_of_day': np.int8,\n",
    "                                'days_since_prior_order': np.float32})\n",
    "\n",
    "    #  order in prior, train, test has no duplicate\n",
    "    #  order_ids_pri = priors.order_id.unique()\n",
    "    #  order_ids_trn = train.order_id.unique()\n",
    "    #  order_ids_tst = orders[orders.eval_set == 'test']['order_id'].unique()\n",
    "    #  print(set(order_ids_pri).intersection(set(order_ids_trn)))\n",
    "    #  print(set(order_ids_pri).intersection(set(order_ids_tst)))\n",
    "    #  print(set(order_ids_trn).intersection(set(order_ids_tst)))\n",
    "\n",
    "    '''\n",
    "    --------------------------------product--------------------------------\n",
    "    * Unique in product_id\n",
    "    '''\n",
    "    products = pd.read_csv(path_data +'\\products\\products.csv')\n",
    "    aisles = pd.read_csv(path_data + \"//aisles//aisles.csv\")\n",
    "    departments = pd.read_csv(path_data + \"\\departments\\departments.csv\")\n",
    "    sample_submission = pd.read_csv(path_data + \"\\sample_submission\\sample_submission.csv\")\n",
    "\n",
    "    return priors, train, orders, products,aisles,  departments, sample_submission\n",
    "\n",
    "def ka_add_groupby_features_n_vs_1(df, group_columns_list, target_columns_list, methods_list, keep_only_stats=True, verbose=1):\n",
    "    grouped_name = ''.join(group_columns_list)\n",
    "    target_name = ''.join(target_columns_list)\n",
    "    combine_name = [[grouped_name] + [method_name] + [target_name] for method_name in methods_list]\n",
    "    df_new = df.copy()\n",
    "    grouped = df_new.groupby(group_columns_list)\n",
    "    the_stats = grouped[target_name].agg(methods_list).reset_index()\n",
    "    the_stats.columns = [grouped_name] + ['_%s_%s_by_%s' % (grouped_name, method_name, target_name)for (grouped_name, method_name, target_name) in combine_name]\n",
    "    if keep_only_stats:\n",
    "        return the_stats\n",
    "    else:\n",
    "        df_new = pd.merge(left=df_new, right=the_stats, on=group_columns_list, how='left')\n",
    "    return df_new\n"
   ]
  },
  {
   "cell_type": "code",
   "execution_count": 2,
   "id": "9d17856c",
   "metadata": {},
   "outputs": [],
   "source": [
    "path_data = r'c:\\Users\\i7546\\Desktop\\BG\\project'\n",
    "priors, train, orders, products, aisles, departments, sample_submission = load_data(path_data)\n"
   ]
  },
  {
   "cell_type": "code",
   "execution_count": 3,
   "id": "02087e2f",
   "metadata": {},
   "outputs": [],
   "source": [
    "\"===================products============================\"\n",
    "# Products information ----------------------------------------------------------------\n",
    "# add order information to priors set\n",
    "priors_orders_detail = orders.merge(right=priors, how='inner', on='order_id')\n",
    "\n",
    "# create new variables\n",
    "# _user_buy_product_times: \n",
    "priors_orders_detail.loc[:,'_user_buy_product_times'] = priors_orders_detail.groupby(['user_id', 'product_id']).cumcount() + 1\n",
    "# _prod_tot_cnts: The total number of times the product is purchased, indicating the degree of being liked\n",
    "# _reorder_tot_cnts_of_this_prod: The total number of times this item was re purchased\n",
    "# _prod_order_once: The total number of times the product was purchased once\n",
    "# _prod_order_more_than_once: The total number of times the commodity is purchased more than once\n",
    "\n",
    "prd=priors_orders_detail.copy().groupby(['product_id']).agg(_prod_tot_cnts=('user_id','count'),_prod_reorder_tot_cnts=('reordered','sum'),_prod_buy_first_time_total_cnt=('_user_buy_product_times',lambda x: sum(x==1)),_prod_buy_second_time_total_cnt=('_user_buy_product_times',lambda x: sum(x==2)))\n",
    "\n",
    "# _prod_reorder_prob: \n",
    "# _prod_reorder_ratio: Commodity repurchase rate\n",
    "prd['_prod_reorder_prob'] = prd._prod_buy_second_time_total_cnt / prd._prod_buy_first_time_total_cnt\n",
    "prd['_prod_reorder_ratio'] = prd._prod_reorder_tot_cnts / prd._prod_tot_cnts\n",
    "prd['_prod_reorder_times'] = 1 + prd._prod_reorder_tot_cnts / prd._prod_buy_first_time_total_cnt\n"
   ]
  },
  {
   "cell_type": "code",
   "execution_count": 4,
   "id": "6b5c708f",
   "metadata": {},
   "outputs": [],
   "source": [
    "\"=======User Part========================================================\"\n",
    "# _user_total_orders: Total orders of users\n",
    "# Other statistical indicators can be considered++++++++++++++++++++++++++\n",
    "# _user_sum_days_since_prior_order: Time since last purchase (sum)\n",
    "# _user_mean_days_since_prior_order: Time since last purchase (mean)\n",
    "\n",
    "users=orders[orders.eval_set == 'prior'].copy().groupby(['user_id']).agg(_user_total_orders=('order_number','max'),_user_sum_days_since_prior_order=('days_since_prior_order','sum'),_user_mean_days_since_prior_order=('days_since_prior_order','mean'))\n",
    "\n",
    "# _user_reorder_ratio: \n",
    "# _user_total_products: \n",
    "# _user_distinct_products: \n",
    "data_new3=priors_orders_detail.copy()\n",
    "grouped3=data_new3.groupby(['user_id'])\n",
    "us =grouped3.agg(_user_reorder_ratio=('reordered',lambda x: sum(priors_orders_detail.loc[x.index,'reordered']==1)/sum(priors_orders_detail.loc[x.index,'order_number']>1)),_user_total_products=('product_id','count'),_user_distinct_products=('product_id',lambda x: x.nunique()))\n",
    "\n",
    "users = pd.merge(users,us,on='user_id',how='inner')\n",
    "\n",
    "# Average number of items per order\n",
    "# The maximum number of items in each order and the minimum number of items\n",
    "users['_user_average_basket'] = users._user_total_products / users._user_total_orders\n",
    "\n",
    "us = orders[orders.eval_set != \"prior\"][['user_id', 'order_id', 'eval_set', 'days_since_prior_order']]\n",
    "us.rename(index=str, columns={'days_since_prior_order': 'time_since_last_order'}, inplace=True)\n",
    "\n",
    "users = pd.merge(users,us,on='user_id',how='inner')"
   ]
  },
  {
   "cell_type": "code",
   "execution_count": 5,
   "id": "a5a222a8",
   "metadata": {},
   "outputs": [],
   "source": [
    "\"===================Database Part¶======================================================\"\n",
    "# _up_order_count: \n",
    "# _up_first_order_number: \n",
    "# _up_last_order_number: \n",
    "# _up_average_cart_position: \n",
    "data_new4=priors_orders_detail.copy()\n",
    "grouped4=data_new4.groupby(['user_id', 'product_id'])\n",
    "data=grouped4.agg(_up_order_count=('order_number','count'),_up_first_order_number=('order_number','min'),_up_last_order_number=('order_number','max'),_up_average_cart_position=('add_to_cart_order','mean'))\n"
   ]
  },
  {
   "cell_type": "code",
   "execution_count": 6,
   "id": "eb97f634",
   "metadata": {
    "scrolled": true
   },
   "outputs": [],
   "source": [
    "users.set_index('user_id', inplace=True)\n",
    "data=data.join(prd,on='product_id',how='left')"
   ]
  },
  {
   "cell_type": "code",
   "execution_count": 7,
   "id": "ee48571a",
   "metadata": {},
   "outputs": [],
   "source": [
    "data=data.join(users,on='user_id',how='left')#Product user data is merged with product and user characteristics."
   ]
  },
  {
   "cell_type": "code",
   "execution_count": 8,
   "id": "b70818ce",
   "metadata": {},
   "outputs": [
    {
     "data": {
      "text/plain": [
       "0"
      ]
     },
     "execution_count": 8,
     "metadata": {},
     "output_type": "execute_result"
    }
   ],
   "source": [
    "data['_up_order_rate'] = data._up_order_count / data._user_total_orders\n",
    "data['_up_order_since_last_order'] = data._user_total_orders - data._up_last_order_number\n",
    "data['_up_order_rate_since_first_order'] = data._up_order_count / (data._user_total_orders - data._up_first_order_number + 1)\n",
    "\n",
    "# add user_id to train set\n",
    "train = train.merge(right=orders[['order_id', 'user_id']], how='left', on='order_id')\n",
    "data = data.merge(train[['user_id', 'product_id', 'reordered']], on=['user_id', 'product_id'], how='left')\n",
    "\n",
    "# release Memory\n",
    "# del train, prd, users\n",
    "# gc.collect()\n",
    "# release Memory\n",
    "del priors_orders_detail, orders\n",
    "gc.collect()"
   ]
  },
  {
   "cell_type": "code",
   "execution_count": 9,
   "id": "7219a0f6",
   "metadata": {},
   "outputs": [],
   "source": [
    "data.to_csv('data.txt')"
   ]
  },
  {
   "cell_type": "code",
   "execution_count": 10,
   "id": "bf1ac9c4",
   "metadata": {},
   "outputs": [
    {
     "name": "stderr",
     "output_type": "stream",
     "text": [
      "F:\\Anaconda\\lib\\site-packages\\pandas\\core\\frame.py:4308: SettingWithCopyWarning: \n",
      "A value is trying to be set on a copy of a slice from a DataFrame\n",
      "\n",
      "See the caveats in the documentation: https://pandas.pydata.org/pandas-docs/stable/user_guide/indexing.html#returning-a-view-versus-a-copy\n",
      "  return super().drop(\n",
      "F:\\Anaconda\\lib\\site-packages\\pandas\\core\\indexing.py:1676: SettingWithCopyWarning: \n",
      "A value is trying to be set on a copy of a slice from a DataFrame.\n",
      "Try using .loc[row_indexer,col_indexer] = value instead\n",
      "\n",
      "See the caveats in the documentation: https://pandas.pydata.org/pandas-docs/stable/user_guide/indexing.html#returning-a-view-versus-a-copy\n",
      "  self._setitem_single_column(ilocs[0], value, pi)\n"
     ]
    }
   ],
   "source": [
    "import os\n",
    "import datetime\n",
    "from datetime import datetime\n",
    "import pandas as pd\n",
    "from sklearn.model_selection import train_test_split\n",
    "os.chdir(r'C:\\Users\\i7546\\Desktop\\BG\\project')\n",
    "data=pd.read_csv('data.txt')\n",
    "train = data.loc[data.eval_set == \"train\",:]\n",
    "train.drop(['eval_set', 'user_id', 'product_id', 'order_id'], axis=1, inplace=True)\n",
    "train.loc[:, 'reordered'] = train.reordered.fillna(0)\n",
    "\n",
    "X_train, X_val, y_train, y_val = train_test_split(train.drop('reordered', axis=1), train.reordered,test_size=0.9, random_state=42)"
   ]
  },
  {
   "cell_type": "code",
   "execution_count": 11,
   "id": "eef0f52c",
   "metadata": {},
   "outputs": [
    {
     "name": "stdout",
     "output_type": "stream",
     "text": [
      "[0]\ttrain-logloss:0.62563\n",
      "[10]\ttrain-logloss:0.33537\n",
      "[20]\ttrain-logloss:0.26820\n",
      "[30]\ttrain-logloss:0.25066\n",
      "[40]\ttrain-logloss:0.24579\n",
      "[50]\ttrain-logloss:0.24419\n",
      "[60]\ttrain-logloss:0.24345\n",
      "[70]\ttrain-logloss:0.24293\n",
      "[79]\ttrain-logloss:0.24254\n",
      "spendt time :30(s)\n"
     ]
    },
    {
     "data": {
      "image/png": "[encoded data removed]",
      "text/plain": [
       "<Figure size 432x288 with 1 Axes>"
      ]
     },
     "metadata": {
      "needs_background": "light"
     },
     "output_type": "display_data"
    }
   ],
   "source": [
    "import xgboost \n",
    "\n",
    "#train\n",
    "d_train = xgboost.DMatrix(X_train, y_train)\n",
    "xgb_params = {\n",
    "    \"objective\"         : \"reg:logistic\"\n",
    "    ,\"eval_metric\"      : \"logloss\"\n",
    "    ,\"eta\"              : 0.1\n",
    "    ,\"max_depth\"        : 6\n",
    "    ,\"min_child_weight\" :10\n",
    "    ,\"gamma\"            :0.70\n",
    "    ,\"subsample\"        :0.76\n",
    "    ,\"colsample_bytree\" :0.95\n",
    "    ,\"alpha\"            :2e-05\n",
    "    ,\"lambda\"           :10\n",
    "}\n",
    "\n",
    "watchlist= [(d_train, \"train\")]\n",
    "xgb_start=datetime.now()\n",
    "bst = xgboost.train(params=xgb_params, dtrain=d_train, num_boost_round=80, evals=watchlist, verbose_eval=10)\n",
    "xgb_end=datetime.now()\n",
    "print('spendt time :'+ str((xgb_end-xgb_start).seconds)+'(s)')\n",
    "xgboost.plot_importance(bst)\n",
    "\n",
    "''' train result:\n",
    "[0]     train-logloss:0.625642\n",
    "[10]    train-logloss:0.335753\n",
    "[20]    train-logloss:0.269213\n",
    "[30]    train-logloss:0.252115\n",
    "[40]    train-logloss:0.247442\n",
    "[50]    train-logloss:0.245712\n",
    "[60]    train-logloss:0.244735\n",
    "[70]    train-logloss:0.243973\n",
    "[79]    train-logloss:0.243472\n",
    "spendt time :41(s)\n",
    "'''\n",
    "\n",
    "#predict \n",
    "pre_data = xgboost.DMatrix(X_val, y_val)\n",
    "predict=bst.predict(pre_data)\n",
    "X_val['reorder']=y_val\n",
    "X_val['pre']=predict\n",
    "\n",
    "\n",
    "precision=float(len(X_val[(X_val['pre']>0.5) & (X_val['reorder']==1)]))/\\\n",
    "          float(len(X_val[X_val['pre']>0.5]))   # predict score>0.5 and lables=1 nums divied predict score>0.5 nums\n",
    "recall=float(len(X_val[(X_val['pre']>0.5) & (X_val['reorder']==1)]))/\\\n",
    "          float(len(X_val[X_val['reorder']==1]))     # predict score>0.5 and lables=1 nums divied lables=1\n",
    "f1_score=2*(precision*recall)/(precision+recall)\n"
   ]
  },
  {
   "cell_type": "code",
   "execution_count": 12,
   "id": "15773beb",
   "metadata": {},
   "outputs": [
    {
     "name": "stdout",
     "output_type": "stream",
     "text": [
      "test score is :0.2827681079158675\n"
     ]
    }
   ],
   "source": [
    "print(\"test score is :{0:.16f}\".format(f1_score))"
   ]
  },
  {
   "cell_type": "code",
   "execution_count": 13,
   "id": "38ccc5a5",
   "metadata": {},
   "outputs": [
    {
     "name": "stdout",
     "output_type": "stream",
     "text": [
      "[LightGBM] [Info] Number of positive: 82607, number of negative: 764859\n",
      "[LightGBM] [Warning] Auto-choosing col-wise multi-threading, the overhead of testing was 0.046659 seconds.\n",
      "You can set `force_col_wise=true` to remove the overhead.\n",
      "[LightGBM] [Info] Total Bins 4796\n",
      "[LightGBM] [Info] Number of data points in the train set: 847466, number of used features: 23\n",
      "[LightGBM] [Info] [binary:BoostFromScore]: pavg=0.097475 -> initscore=-2.225597\n",
      "[LightGBM] [Info] Start training from score -2.225597\n",
      "[10]\ttraining's binary_logloss: 0.256399\n",
      "[20]\ttraining's binary_logloss: 0.246193\n",
      "[30]\ttraining's binary_logloss: 0.243052\n",
      "[40]\ttraining's binary_logloss: 0.241387\n",
      "[50]\ttraining's binary_logloss: 0.240089\n",
      "[60]\ttraining's binary_logloss: 0.238955\n",
      "[70]\ttraining's binary_logloss: 0.237904\n",
      "[80]\ttraining's binary_logloss: 0.236995\n",
      "[90]\ttraining's binary_logloss: 0.23611\n",
      "[100]\ttraining's binary_logloss: 0.235265\n",
      "spendt time :3(s)\n",
      "F1 score is :0.28658713994762874\n"
     ]
    }
   ],
   "source": [
    "# trian\n",
    "import numpy as np\n",
    "import lightgbm as lgb\n",
    "labels = np.array(y_train, dtype=np.int8)\n",
    "d_train = lgb.Dataset(X_train.to_numpy(),\n",
    "                      label=labels)  # , 'order_hour_of_day', 'dow'    \n",
    "params = {\n",
    "    'task': 'train',\n",
    "    'boosting_type': 'gbdt',\n",
    "    'objective': 'binary',\n",
    "    'metric': {'binary_logloss'},\n",
    "    'num_leaves': 96,\n",
    "    'max_depth': 10,\n",
    "    'feature_fraction': 0.9,\n",
    "    'bagging_fraction': 0.95,\n",
    "    'bagging_freq': 5\n",
    "}\n",
    "ROUNDS = 100\n",
    "watchlist=[d_train]\n",
    "\n",
    "lgb_start=datetime.now()\n",
    "best_1 = lgb.train(params=params, train_set=d_train, num_boost_round=ROUNDS,valid_sets=watchlist,verbose_eval=10)\n",
    "lgb_end=datetime.now()\n",
    "print('spendt time :'+str((lgb_end-lgb_start).seconds)+'(s)')\n",
    "\n",
    "''' lgb train score:\n",
    "[10]    training's binary_logloss: 0.348039\n",
    "[20]    training's binary_logloss: 0.271007\n",
    "[30]    training's binary_logloss: 0.250972\n",
    "[40]    training's binary_logloss: 0.245258\n",
    "[50]    training's binary_logloss: 0.242898\n",
    "[60]    training's binary_logloss: 0.241338\n",
    "[70]    training's binary_logloss: 0.240099\n",
    "[80]    training's binary_logloss: 0.239047\n",
    "[90]    training's binary_logloss: 0.238009\n",
    "[100]   training's binary_logloss: 0.236996\n",
    "spendt time :9(s)\n",
    "'''\n",
    "\n",
    "#pridict\n",
    "X_val=X_val.drop(['reorder','pre'], axis=1)#\n",
    "predict=best_1.predict(X_val) \n",
    "\n",
    "X_val['reorder']=y_val\n",
    "X_val['pre']=predict\n",
    "\n",
    "precision=float(len(X_val[(X_val['pre']>0.5) & (X_val['reorder']==1)]))/\\\n",
    "          float(len(X_val[X_val['pre']>0.5]))   # predict score>0.5 and lables=1 nums divied predict score>0.5 nums\n",
    "recall=float(len(X_val[(X_val['pre']>0.5) & (X_val['reorder']==1)]))/\\\n",
    "          float(len(X_val[X_val['reorder']==1]))     # predict score>0.5 and lables=1 nums divied lables=1\n",
    "f1_score=2*(precision*recall)/(precision+recall)\n",
    "print('F1 score is :'+str(f1_score))\n"
   ]
  },
  {
   "cell_type": "code",
   "execution_count": 34,
   "id": "547445f5",
   "metadata": {},
   "outputs": [
    {
     "data": {
      "text/plain": [
       "array([0.65798844, 0.02297232, 0.02574563, ..., 0.05510546, 0.0397921 ,\n",
       "       0.03550496])"
      ]
     },
     "execution_count": 34,
     "metadata": {},
     "output_type": "execute_result"
    }
   ],
   "source": []
  }
 ],
 "metadata": {
  "kernelspec": {
   "display_name": "Python 3 (ipykernel)",
   "language": "python",
   "name": "python3"
  },
  "language_info": {
   "codemirror_mode": {
    "name": "ipython",
    "version": 3
   },
   "file_extension": ".py",
   "mimetype": "text/x-python",
   "name": "python",
   "nbconvert_exporter": "python",
   "pygments_lexer": "ipython3",
   "version": "3.9.13"
  }
 },
 "nbformat": 4,
 "nbformat_minor": 5
}
